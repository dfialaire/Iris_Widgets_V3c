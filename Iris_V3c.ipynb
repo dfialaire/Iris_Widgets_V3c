{
 "cells": [
  {
   "cell_type": "code",
   "execution_count": 3,
   "metadata": {},
   "outputs": [],
   "source": [
    "#########\n",
    "from ipywidgets import *\n",
    "import io\n",
    "import cv2\n",
    "import PIL.Image\n",
    "from scipy.ndimage import filters\n",
    "import numpy as np\n",
    "##########\n",
    "from IPython.display import display, clear_output\n",
    "from ipywebrtc import CameraStream, ImageRecorder"
   ]
  },
  {
   "cell_type": "code",
   "execution_count": 24,
   "metadata": {},
   "outputs": [
    {
     "data": {
      "application/vnd.jupyter.widget-view+json": {
       "model_id": "",
       "version_major": 2,
       "version_minor": 0
      },
      "text/plain": [
       "Image(value=b'\\x89PNG\\r\\n\\x1a\\n\\x00\\x00\\x00\\rIHDR\\x00\\x00\\x05\\x00\\x00\\x00\\x01\\xe0\\x08\\x02\\x00\\x00\\x00u\\x8dW1\\x…"
      ]
     },
     "metadata": {},
     "output_type": "display_data"
    },
    {
     "name": "stdout",
     "output_type": "stream",
     "text": [
      "<class 'int'>\n",
      "<class 'str'>\n"
     ]
    },
    {
     "data": {
      "application/vnd.jupyter.widget-view+json": {
       "model_id": "",
       "version_major": 2,
       "version_minor": 0
      },
      "text/plain": [
       "IntSlider(value=150, description='a', max=238, min=150)"
      ]
     },
     "metadata": {},
     "output_type": "display_data"
    },
    {
     "data": {
      "application/vnd.jupyter.widget-view+json": {
       "model_id": "",
       "version_major": 2,
       "version_minor": 0
      },
      "text/plain": [
       "IntSlider(value=0, description='b', max=1)"
      ]
     },
     "metadata": {},
     "output_type": "display_data"
    }
   ],
   "source": [
    "##########\n",
    "def compress_to_bytes(data, fmt):\n",
    "    \"\"\"\n",
    "    Helper function to compress image data via PIL/Pillow.\n",
    "    \"\"\"\n",
    "    buff = io.BytesIO()\n",
    "    img = PIL.Image.fromarray(data)    \n",
    "    img.save(buff, format=fmt)\n",
    "    return buff.getvalue()\n",
    "##########\n",
    "            #################################\n",
    "img = cv2.imread(\"Bienvenue.png\", cv2.IMREAD_COLOR)\n",
    "img_rgb = cv2.cvtColor(img, cv2.COLOR_BGR2RGB)\n",
    "fmt = 'png'\n",
    "data_comp = compress_to_bytes(img_rgb, fmt)\n",
    "image_headline = widgets.Image(value=data_comp,format='jpg',width='640')\n",
    "image_headline2 = widgets.Image(value=data_comp,format='jpg',width='640')\n",
    "            #################################\n",
    "camera = CameraStream(constraints={'facing_mode': 'user','audio': False,'video': { 'width': 640, 'height': 480}})\n",
    "image_recorder = ImageRecorder(stream=camera, tooltip='Cliquer pour tenter une Capture')\n",
    "FLAG_STOP = False\n",
    "btn_stop = Button(description=\"Ok\",tooltip='Cette capture est Ok ?',button_style='danger')\n",
    "def close_cam(_):\n",
    "    with yout:\n",
    "        clear_output()\n",
    "    FLAG_STOP= True\n",
    "    #Widget.close_all()\n",
    "    az = type(image_recorder)\n",
    "    im_in = PIL.Image.open(io.BytesIO(image_recorder.image.value))\n",
    "    im_array = np.array(im_in)#[..., :3]\n",
    "    ####\n",
    "    mask_circle = np.zeros(im_array.shape[:2],np.uint8)\n",
    "    cv2.circle(mask_circle,(320,240), 150, 255, -1)\n",
    "    img_rgb = cv2.bitwise_and(im_array, im_array, mask=mask_circle)    \n",
    "    ####\n",
    "    fmt = 'png'\n",
    "    data_comp = compress_to_bytes(img_rgb, fmt)\n",
    "    image_headline.value = data_comp\n",
    "    ####\n",
    "    data_comp2 = compress_to_bytes(im_array, fmt)\n",
    "    image_headline2.value = data_comp2\n",
    "    ####\n",
    "btn_stop.on_click(close_cam)\n",
    "display(image_headline)\n",
    "####\n",
    "            #################################\n",
    "a = widgets.IntSlider(min = 150, max = 238,  value = 150 , description='a')\n",
    "b = widgets.IntSlider(min = 0, max = 1,  value = 0 , description='b')\n",
    "display(a)\n",
    "display(b)\n",
    "############\n",
    "def f(change):\n",
    "    a=change['new']\n",
    "    im_in = PIL.Image.open(io.BytesIO(image_headline2.value))\n",
    "    im_array = np.array(im_in)#[..., :3]\n",
    "#     ####\n",
    "    mask_circle = np.zeros(im_array.shape[:2],np.uint8)\n",
    "    cv2.circle(mask_circle,(320,240), a, 255, -1)\n",
    "    new = cv2.bitwise_and(im_array, im_array, mask=mask_circle)    \n",
    "\n",
    "    fmt = 'png'\n",
    "    data_comp = compress_to_bytes(new, fmt)\n",
    "    image_headline.value=data_comp\n",
    "    #####\n",
    "    data_comp2 = compress_to_bytes(im_array, fmt)\n",
    "    image_headline2.value=data_comp2\n",
    "############\n",
    "def g(b):\n",
    "    im_in = PIL.Image.open(io.BytesIO(image_headline2.value))\n",
    "    im_array = np.array(im_in)#[..., :3]\n",
    "\n",
    "    img_rgb = cv2.flip(im_array, 1)\n",
    "\n",
    "    mask_circle = np.zeros(img_rgb.shape[:2],np.uint8)\n",
    "    cv2.circle(mask_circle,(320,240), a.value, 255, -1)\n",
    "    new = cv2.bitwise_and(img_rgb, img_rgb, mask=mask_circle)  \n",
    "    fmt = 'png'\n",
    "    data_comp = compress_to_bytes(new, fmt)\n",
    "    image_headline.value=data_comp\n",
    "    #####\n",
    "    data_comp = compress_to_bytes(img_rgb, fmt)\n",
    "    image_headline2.value=data_comp\n",
    "############\n",
    "a.observe(f, names='value')\n",
    "b.observe(g, names='value')"
   ]
  },
  {
   "cell_type": "code",
   "execution_count": 25,
   "metadata": {},
   "outputs": [
    {
     "data": {
      "application/vnd.jupyter.widget-view+json": {
       "model_id": "",
       "version_major": 2,
       "version_minor": 0
      },
      "text/plain": [
       "VBox(children=(HBox(children=(CameraStream(constraints={'facing_mode': 'user', 'audio': False, 'video': {'widt…"
      ]
     },
     "metadata": {},
     "output_type": "display_data"
    },
    {
     "data": {
      "application/vnd.jupyter.widget-view+json": {
       "model_id": "",
       "version_major": 2,
       "version_minor": 0
      },
      "text/plain": [
       "Output()"
      ]
     },
     "metadata": {},
     "output_type": "display_data"
    }
   ],
   "source": [
    "yo=VBox([HBox([camera,VBox([image_recorder, btn_stop]) ])  ])     #  btn_stop]), out]))\n",
    "display(yo)\n",
    "yout = widgets.Output()\n",
    "display(yout)"
   ]
  },
  {
   "cell_type": "code",
   "execution_count": 26,
   "metadata": {},
   "outputs": [],
   "source": [
    "# Widget.close_all()"
   ]
  },
  {
   "cell_type": "code",
   "execution_count": null,
   "metadata": {},
   "outputs": [],
   "source": []
  }
 ],
 "metadata": {
  "kernelspec": {
   "display_name": "Python 3",
   "language": "python",
   "name": "python3"
  },
  "language_info": {
   "codemirror_mode": {
    "name": "ipython",
    "version": 3
   },
   "file_extension": ".py",
   "mimetype": "text/x-python",
   "name": "python",
   "nbconvert_exporter": "python",
   "pygments_lexer": "ipython3",
   "version": "3.7.10"
  }
 },
 "nbformat": 4,
 "nbformat_minor": 2
}
